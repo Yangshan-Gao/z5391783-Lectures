{
 "cells": [
  {
   "cell_type": "code",
   "execution_count": 11,
   "id": "7612cdae-0ee9-4e56-9e5b-568a893a2746",
   "metadata": {},
   "outputs": [
    {
     "name": "stdout",
     "output_type": "stream",
     "text": [
      "[1, 10, 1.2] \n",
      "\n",
      "[5, 10, 1.2] \n",
      "\n",
      "[5, 10, 1.2]\n"
     ]
    }
   ],
   "source": [
    "#1 copy\n",
    "A = [\"hard rock\", 10, 1.2]\n",
    "B = A\n",
    "A[0] = 1\n",
    "print(B, \"\\n\")\n",
    "#2 Shallow copy, (Clone List)\n",
    "B = A\n",
    "A[0] = 5\n",
    "print(B, \"\\n\")\n",
    "#3 Deep copy\n",
    "import copy\n",
    "B = copy.deepcopy(A)\n",
    "A[0] = 3\n",
    "print(B)"
   ]
  },
  {
   "cell_type": "code",
   "execution_count": 12,
   "id": "33fdfe65-3832-4c54-b641-4dfd33e15198",
   "metadata": {},
   "outputs": [
    {
     "name": "stdout",
     "output_type": "stream",
     "text": [
      "5\n",
      "16\n",
      "23\n",
      "36\n",
      "45\n",
      "62\n"
     ]
    }
   ],
   "source": [
    "numbers = [5, 11, 7, 13, 9, 17]\n",
    "total = 0\n",
    "# sum is a built-in function\n",
    "# and should not be used as variable name\n",
    "for num in numbers: # iterate over the list\n",
    "    total = total + num # or total += num\n",
    "    print(total)"
   ]
  },
  {
   "cell_type": "code",
   "execution_count": 13,
   "id": "c755f1a3-ab4a-4bc8-902c-c1f59c53c4ae",
   "metadata": {},
   "outputs": [
    {
     "name": "stdout",
     "output_type": "stream",
     "text": [
      "The value of num 5\n",
      "The current value of total before update: 0\n",
      "The value of total after addition: 5\n",
      "\n",
      "The value of num 11\n",
      "The current value of total before update: 5\n",
      "The value of total after addition: 16\n",
      "\n",
      "The value of num 7\n",
      "The current value of total before update: 16\n",
      "The value of total after addition: 23\n",
      "\n",
      "The value of num 13\n",
      "The current value of total before update: 23\n",
      "The value of total after addition: 36\n",
      "\n",
      "The value of num 9\n",
      "The current value of total before update: 36\n",
      "The value of total after addition: 45\n",
      "\n",
      "The value of num 17\n",
      "The current value of total before update: 45\n",
      "The value of total after addition: 62\n",
      "\n"
     ]
    }
   ],
   "source": [
    "numbers = [5, 11, 7, 13, 9, 17]\n",
    "total = 0\n",
    "# sum is a built-in function\n",
    "# and should not be used as variable name\n",
    "for num in numbers: # iterate over the list\n",
    "    print(\"The value of num\", num)\n",
    "    print(\"The current value of total before update:\", total)\n",
    "    total = total + num # or total += num\n",
    "    print(\"The value of total after addition:\", total)\n",
    "    print() # a new line"
   ]
  },
  {
   "cell_type": "code",
   "execution_count": 14,
   "id": "ad364b90-b7ab-4115-a5c7-c8a26d3a48dc",
   "metadata": {},
   "outputs": [
    {
     "name": "stdout",
     "output_type": "stream",
     "text": [
      "2.0\n",
      "<class 'float'>\n",
      "\n",
      "2\n",
      "<class 'int'>\n"
     ]
    }
   ],
   "source": [
    "print(4**(0.5))\n",
    "print(type(4**(0.5)))\n",
    "print()\n",
    "print(int(4**(0.5)))\n",
    "print(type(int(4**(0.5))))"
   ]
  },
  {
   "cell_type": "code",
   "execution_count": 18,
   "id": "40af8a02-9b37-43b7-b02f-f072e421cfd9",
   "metadata": {},
   "outputs": [],
   "source": [
    "x = 5 / 2"
   ]
  },
  {
   "cell_type": "code",
   "execution_count": 19,
   "id": "da0e9770-3ed2-4e0e-8eb2-75a877296f37",
   "metadata": {},
   "outputs": [
    {
     "data": {
      "text/plain": [
       "sys.int_info(bits_per_digit=30, sizeof_digit=4, default_max_str_digits=4300, str_digits_check_threshold=640)"
      ]
     },
     "execution_count": 19,
     "metadata": {},
     "output_type": "execute_result"
    }
   ],
   "source": [
    "import sys\n",
    "sys.int_info"
   ]
  },
  {
   "cell_type": "code",
   "execution_count": 20,
   "id": "d89140eb-fcf7-41de-8f39-03fe68a6e5cd",
   "metadata": {},
   "outputs": [
    {
     "data": {
      "text/plain": [
       "1"
      ]
     },
     "execution_count": 20,
     "metadata": {},
     "output_type": "execute_result"
    }
   ],
   "source": [
    "int(1.9)"
   ]
  },
  {
   "cell_type": "code",
   "execution_count": 21,
   "id": "21965132-7afb-4325-b3fa-576ad1844b8f",
   "metadata": {},
   "outputs": [
    {
     "data": {
      "text/plain": [
       "False"
      ]
     },
     "execution_count": 21,
     "metadata": {},
     "output_type": "execute_result"
    }
   ],
   "source": [
    "False"
   ]
  },
  {
   "cell_type": "code",
   "execution_count": 26,
   "id": "92e65166-335e-4b76-be1b-9fffa8268d06",
   "metadata": {},
   "outputs": [
    {
     "data": {
      "text/plain": [
       "'True'"
      ]
     },
     "execution_count": 26,
     "metadata": {},
     "output_type": "execute_result"
    }
   ],
   "source": [
    "str(True)"
   ]
  },
  {
   "cell_type": "code",
   "execution_count": 29,
   "id": "a429683a-9a64-433c-bffa-4027a5a859b8",
   "metadata": {},
   "outputs": [
    {
     "data": {
      "text/plain": [
       "'False'"
      ]
     },
     "execution_count": 29,
     "metadata": {},
     "output_type": "execute_result"
    }
   ],
   "source": [
    "str(False)"
   ]
  },
  {
   "cell_type": "code",
   "execution_count": 30,
   "id": "da4448f0-a7f8-4602-ae28-4d4a02dd673a",
   "metadata": {},
   "outputs": [
    {
     "data": {
      "text/plain": [
       "False"
      ]
     },
     "execution_count": 30,
     "metadata": {},
     "output_type": "execute_result"
    }
   ],
   "source": [
    "bool(0)"
   ]
  },
  {
   "cell_type": "code",
   "execution_count": 31,
   "id": "f452b0e6-95fc-47b3-9565-e049ddee7eea",
   "metadata": {},
   "outputs": [
    {
     "data": {
      "text/plain": [
       "True"
      ]
     },
     "execution_count": 31,
     "metadata": {},
     "output_type": "execute_result"
    }
   ],
   "source": [
    "bool(-8.99)"
   ]
  },
  {
   "cell_type": "code",
   "execution_count": 32,
   "id": "7bbd20e0-f7ae-418e-8cff-ff45d1f907d9",
   "metadata": {},
   "outputs": [
    {
     "data": {
      "text/plain": [
       "25"
      ]
     },
     "execution_count": 32,
     "metadata": {},
     "output_type": "execute_result"
    }
   ],
   "source": [
    "5 * 5"
   ]
  },
  {
   "cell_type": "code",
   "execution_count": 33,
   "id": "789cc44f-144d-463f-b0e6-398dd04723d6",
   "metadata": {},
   "outputs": [
    {
     "data": {
      "text/plain": [
       "27.5"
      ]
     },
     "execution_count": 33,
     "metadata": {},
     "output_type": "execute_result"
    }
   ],
   "source": [
    "5 * 5.5"
   ]
  },
  {
   "cell_type": "code",
   "execution_count": 34,
   "id": "9d183238-afc7-4ce9-986a-a6c347b53d37",
   "metadata": {},
   "outputs": [
    {
     "data": {
      "text/plain": [
       "4"
      ]
     },
     "execution_count": 34,
     "metadata": {},
     "output_type": "execute_result"
    }
   ],
   "source": [
    "25 // 6"
   ]
  },
  {
   "cell_type": "code",
   "execution_count": 35,
   "id": "833c0f09-fad8-47fd-bc79-18c0a2360505",
   "metadata": {},
   "outputs": [
    {
     "data": {
      "text/plain": [
       "-5"
      ]
     },
     "execution_count": 35,
     "metadata": {},
     "output_type": "execute_result"
    }
   ],
   "source": [
    "-25 // 6"
   ]
  },
  {
   "cell_type": "code",
   "execution_count": 36,
   "id": "eaee9d50-8a46-4f9f-a72a-143d261dcb5a",
   "metadata": {},
   "outputs": [
    {
     "data": {
      "text/plain": [
       "1"
      ]
     },
     "execution_count": 36,
     "metadata": {},
     "output_type": "execute_result"
    }
   ],
   "source": [
    "7%3  "
   ]
  },
  {
   "cell_type": "code",
   "execution_count": 37,
   "id": "4813e6da-ba5e-4bc5-aba2-6fcf200fe3fd",
   "metadata": {},
   "outputs": [
    {
     "data": {
      "text/plain": [
       "150.0"
      ]
     },
     "execution_count": 37,
     "metadata": {},
     "output_type": "execute_result"
    }
   ],
   "source": [
    "30.0 + 2 * 60"
   ]
  },
  {
   "cell_type": "code",
   "execution_count": 53,
   "id": "e5a775e6-753b-43e2-958c-5ed4232918c2",
   "metadata": {},
   "outputs": [
    {
     "data": {
      "text/plain": [
       "'lee'"
      ]
     },
     "execution_count": 53,
     "metadata": {},
     "output_type": "execute_result"
    }
   ],
   "source": [
    "\"lee\""
   ]
  },
  {
   "cell_type": "code",
   "execution_count": 54,
   "id": "a9373d38-61fb-4da7-afd2-55cd084f5611",
   "metadata": {},
   "outputs": [
    {
     "data": {
      "text/plain": [
       "'lee'"
      ]
     },
     "execution_count": 54,
     "metadata": {},
     "output_type": "execute_result"
    }
   ],
   "source": [
    "'lee'"
   ]
  },
  {
   "cell_type": "code",
   "execution_count": 55,
   "id": "61fad7ca-de18-4cd2-b815-43a83a5f8bec",
   "metadata": {},
   "outputs": [
    {
     "name": "stdout",
     "output_type": "stream",
     "text": [
      "lee\n"
     ]
    }
   ],
   "source": [
    "print('lee')"
   ]
  },
  {
   "cell_type": "code",
   "execution_count": 57,
   "id": "ff927e2f-53a0-44a4-93c2-c79a116a6156",
   "metadata": {},
   "outputs": [
    {
     "data": {
      "text/plain": [
       "True"
      ]
     },
     "execution_count": 57,
     "metadata": {},
     "output_type": "execute_result"
    }
   ],
   "source": [
    " bool(\"6\")"
   ]
  },
  {
   "cell_type": "code",
   "execution_count": 85,
   "id": "be159996-3e85-4786-b564-00af89722a4d",
   "metadata": {},
   "outputs": [
    {
     "data": {
      "text/plain": [
       "'222'"
      ]
     },
     "execution_count": 85,
     "metadata": {},
     "output_type": "execute_result"
    }
   ],
   "source": [
    "w = 3 * \"2\"\n",
    "w"
   ]
  },
  {
   "cell_type": "code",
   "execution_count": 71,
   "id": "e2775555-eff9-43df-8bc1-7192f7c2ccb9",
   "metadata": {},
   "outputs": [
    {
     "data": {
      "text/plain": [
       "True"
      ]
     },
     "execution_count": 71,
     "metadata": {},
     "output_type": "execute_result"
    }
   ],
   "source": [
    "12.0 ==12"
   ]
  },
  {
   "cell_type": "code",
   "execution_count": 74,
   "id": "cafb06c4-9f1e-4ad1-a9fb-5b1938fd5097",
   "metadata": {},
   "outputs": [
    {
     "name": "stdout",
     "output_type": "stream",
     "text": [
      "S\n"
     ]
    }
   ],
   "source": [
    "Name= \"Simon Lee\"\n",
    "print(Name[0])"
   ]
  },
  {
   "cell_type": "code",
   "execution_count": 75,
   "id": "bd5e5506-a2e0-453d-8622-7f11c5419bd4",
   "metadata": {},
   "outputs": [],
   "source": [
    "A = \"I am Simon Lee\"\n",
    "C=A.lower()"
   ]
  },
  {
   "cell_type": "code",
   "execution_count": 76,
   "id": "5830fe0d-f8ae-4d09-a430-ecc6370c7d6c",
   "metadata": {},
   "outputs": [
    {
     "data": {
      "text/plain": [
       "'May Lee is the best'"
      ]
     },
     "execution_count": 76,
     "metadata": {},
     "output_type": "execute_result"
    }
   ],
   "source": [
    "A=\"Simon Lee is the best\"\n",
    "B=A.replace('Simon', 'May')\n",
    "B"
   ]
  },
  {
   "cell_type": "code",
   "execution_count": 78,
   "id": "0335c331-b5ba-4709-8397-b8732c5e1649",
   "metadata": {},
   "outputs": [
    {
     "data": {
      "text/plain": [
       "'88'"
      ]
     },
     "execution_count": 78,
     "metadata": {},
     "output_type": "execute_result"
    }
   ],
   "source": [
    "x = \"8\"\n",
    "x = x * 2\n",
    "x"
   ]
  },
  {
   "cell_type": "code",
   "execution_count": 84,
   "id": "5df6b033-82de-4974-b61e-e352be8f6fbf",
   "metadata": {},
   "outputs": [
    {
     "data": {
      "text/plain": [
       "6.0"
      ]
     },
     "execution_count": 84,
     "metadata": {},
     "output_type": "execute_result"
    }
   ],
   "source": [
    "w = 3 * float(\"2\")\n",
    "w"
   ]
  },
  {
   "cell_type": "code",
   "execution_count": 86,
   "id": "330444c1-baf2-49d4-b62f-fd5814ec36a8",
   "metadata": {},
   "outputs": [
    {
     "data": {
      "text/plain": [
       "True"
      ]
     },
     "execution_count": 86,
     "metadata": {},
     "output_type": "execute_result"
    }
   ],
   "source": [
    "bool(\"6.3\")"
   ]
  },
  {
   "cell_type": "code",
   "execution_count": 98,
   "id": "6a69e8f3-e564-4081-9c37-9aad1b5f11fb",
   "metadata": {},
   "outputs": [
    {
     "ename": "NameError",
     "evalue": "name 'n' is not defined",
     "output_type": "error",
     "traceback": [
      "\u001b[0;31m---------------------------------------------------------------------------\u001b[0m",
      "\u001b[0;31mNameError\u001b[0m                                 Traceback (most recent call last)",
      "Cell \u001b[0;32mIn[98], line 1\u001b[0m\n\u001b[0;32m----> 1\u001b[0m \u001b[38;5;28mbool\u001b[39m(n)\n",
      "\u001b[0;31mNameError\u001b[0m: name 'n' is not defined"
     ]
    }
   ],
   "source": [
    "bool(n)"
   ]
  },
  {
   "cell_type": "code",
   "execution_count": 109,
   "id": "08adcf86-9d2b-4be0-ba08-76032ef7c816",
   "metadata": {},
   "outputs": [
    {
     "data": {
      "text/plain": [
       "-1"
      ]
     },
     "execution_count": 109,
     "metadata": {},
     "output_type": "execute_result"
    }
   ],
   "source": [
    "-19//20"
   ]
  },
  {
   "cell_type": "code",
   "execution_count": 118,
   "id": "8e8bf256-002f-44c6-a60c-78d60b5b7b1a",
   "metadata": {},
   "outputs": [
    {
     "ename": "TypeError",
     "evalue": "can only concatenate str (not \"int\") to str",
     "output_type": "error",
     "traceback": [
      "\u001b[0;31m---------------------------------------------------------------------------\u001b[0m",
      "\u001b[0;31mTypeError\u001b[0m                                 Traceback (most recent call last)",
      "Cell \u001b[0;32mIn[118], line 1\u001b[0m\n\u001b[0;32m----> 1\u001b[0m w \u001b[38;5;241m=\u001b[39m \u001b[38;5;124m\"\u001b[39m\u001b[38;5;124m2\u001b[39m\u001b[38;5;124m\"\u001b[39m \u001b[38;5;241m+\u001b[39m \u001b[38;5;241m3\u001b[39m\n\u001b[1;32m      2\u001b[0m w\n",
      "\u001b[0;31mTypeError\u001b[0m: can only concatenate str (not \"int\") to str"
     ]
    }
   ],
   "source": [
    "w = \"2\" + 3\n",
    "w"
   ]
  },
  {
   "cell_type": "code",
   "execution_count": 122,
   "id": "36bbe6d9-b219-443b-8a7c-132f188d0b98",
   "metadata": {},
   "outputs": [
    {
     "data": {
      "text/plain": [
       "1"
      ]
     },
     "execution_count": 122,
     "metadata": {},
     "output_type": "execute_result"
    }
   ],
   "source": [
    "int(1.9)"
   ]
  },
  {
   "cell_type": "code",
   "execution_count": 149,
   "id": "cbdff732-ee4a-4cfe-b730-e45e37aa8871",
   "metadata": {},
   "outputs": [
    {
     "name": "stdout",
     "output_type": "stream",
     "text": [
      "I am from \"Matrix\"\n"
     ]
    }
   ],
   "source": [
    "print('I am from \"Matrix\"'.strip())"
   ]
  },
  {
   "cell_type": "code",
   "execution_count": 124,
   "id": "bb249259-a8d1-4e70-99bd-9d6612bcdb6a",
   "metadata": {},
   "outputs": [
    {
     "name": "stdout",
     "output_type": "stream",
     "text": [
      "I, a 'mighty' King L\n"
     ]
    }
   ],
   "source": [
    "print(\" I, a 'mighty' King L\".lstrip())"
   ]
  },
  {
   "cell_type": "code",
   "execution_count": 128,
   "id": "28854b32-0714-4f39-8c99-b9048b9a55cc",
   "metadata": {},
   "outputs": [
    {
     "data": {
      "text/plain": [
       "1"
      ]
     },
     "execution_count": 128,
     "metadata": {},
     "output_type": "execute_result"
    }
   ],
   "source": [
    "_2Variable=1\n",
    "_2Variable"
   ]
  },
  {
   "cell_type": "code",
   "execution_count": 145,
   "id": "b8704fe0-9594-479d-b156-aa30d271ca12",
   "metadata": {},
   "outputs": [
    {
     "name": "stdout",
     "output_type": "stream",
     "text": [
      "False\n"
     ]
    }
   ],
   "source": [
    "xx = float(0)\n",
    "yy = 2000\n",
    "print(bool(int(xx / yy)))"
   ]
  },
  {
   "cell_type": "code",
   "execution_count": 146,
   "id": "f2c36b8b-d5b3-4c07-917b-23219cd58f5d",
   "metadata": {},
   "outputs": [
    {
     "data": {
      "text/plain": [
       "8.0"
      ]
     },
     "execution_count": 146,
     "metadata": {},
     "output_type": "execute_result"
    }
   ],
   "source": [
    "x = \"2\"\n",
    "x = x * 1\n",
    "y = float(x) ** 3\n",
    "y"
   ]
  },
  {
   "cell_type": "code",
   "execution_count": 147,
   "id": "cbb192a9-e0bf-4cb1-8462-5d65c57037c2",
   "metadata": {},
   "outputs": [
    {
     "data": {
      "text/plain": [
       "-1"
      ]
     },
     "execution_count": 147,
     "metadata": {},
     "output_type": "execute_result"
    }
   ],
   "source": [
    "Name=\"Simon Lee\"\n",
    "Name.find('A')"
   ]
  },
  {
   "cell_type": "code",
   "execution_count": 148,
   "id": "fc6eafab-0d45-4428-a4a8-337974f035ae",
   "metadata": {},
   "outputs": [
    {
     "name": "stdout",
     "output_type": "stream",
     "text": [
      "I am 54\"\n"
     ]
    }
   ],
   "source": [
    "print(\"I am 54\\\"\")"
   ]
  },
  {
   "cell_type": "code",
   "execution_count": 150,
   "id": "4ac121f3-afac-4c0b-b56b-d47bdc102a1f",
   "metadata": {},
   "outputs": [
    {
     "name": "stdout",
     "output_type": "stream",
     "text": [
      "\n",
      "\n"
     ]
    }
   ],
   "source": [
    "print (\"\\n\")"
   ]
  },
  {
   "cell_type": "code",
   "execution_count": 151,
   "id": "851b4bf3-48f2-4117-8b17-c5cd6495fcb1",
   "metadata": {},
   "outputs": [
    {
     "name": "stdout",
     "output_type": "stream",
     "text": [
      "I am 54\"\n"
     ]
    }
   ],
   "source": [
    "print('''I am 54\"''')"
   ]
  },
  {
   "cell_type": "code",
   "execution_count": 153,
   "id": "69f9db21-af86-4c08-9201-df5597efd5e3",
   "metadata": {},
   "outputs": [
    {
     "name": "stdout",
     "output_type": "stream",
     "text": [
      "5\n"
     ]
    }
   ],
   "source": [
    "print(5 % 10)"
   ]
  },
  {
   "cell_type": "code",
   "execution_count": 155,
   "id": "646ea5e9-abe5-47c2-b893-39e0b9d8b83a",
   "metadata": {},
   "outputs": [
    {
     "data": {
      "text/plain": [
       "[-3, -1, 2]"
      ]
     },
     "execution_count": 155,
     "metadata": {},
     "output_type": "execute_result"
    }
   ],
   "source": [
    "values = (-1, 2, -3)\n",
    "s=sorted(values)\n",
    "s"
   ]
  },
  {
   "cell_type": "code",
   "execution_count": 156,
   "id": "0ac478da-df75-4a00-b2d3-481fa7c9a944",
   "metadata": {},
   "outputs": [
    {
     "data": {
      "text/plain": [
       "['1', '2']"
      ]
     },
     "execution_count": 156,
     "metadata": {},
     "output_type": "execute_result"
    }
   ],
   "source": [
    "L = [\"1\"]\n",
    "L.extend(['2'])\n",
    "L"
   ]
  },
  {
   "cell_type": "code",
   "execution_count": 159,
   "id": "94b7c492-7938-4a07-af75-d4fb4353b7b6",
   "metadata": {},
   "outputs": [
    {
     "name": "stdout",
     "output_type": "stream",
     "text": [
      "['2', 10]\n"
     ]
    }
   ],
   "source": [
    "A=[\"1\",10]\n",
    "A[0]='2'\n",
    "print(A)"
   ]
  },
  {
   "cell_type": "code",
   "execution_count": 161,
   "id": "6b3b9136-1a84-41ee-8504-25c414107678",
   "metadata": {},
   "outputs": [
    {
     "ename": "NameError",
     "evalue": "name 'hardrock' is not defined",
     "output_type": "error",
     "traceback": [
      "\u001b[0;31m---------------------------------------------------------------------------\u001b[0m",
      "\u001b[0;31mNameError\u001b[0m                                 Traceback (most recent call last)",
      "Cell \u001b[0;32mIn[161], line 1\u001b[0m\n\u001b[0;32m----> 1\u001b[0m hardrock\u001b[38;5;241m.\u001b[39msplit()\n",
      "\u001b[0;31mNameError\u001b[0m: name 'hardrock' is not defined"
     ]
    }
   ],
   "source": [
    "hardrock.split()"
   ]
  },
  {
   "cell_type": "code",
   "execution_count": 166,
   "id": "aa3d0dac-a9f9-4cb0-b3e3-5ce44951fab5",
   "metadata": {},
   "outputs": [
    {
     "data": {
      "text/plain": [
       "True"
      ]
     },
     "execution_count": 166,
     "metadata": {},
     "output_type": "execute_result"
    }
   ],
   "source": [
    "A = set([\"2\", 1])\n",
    "A.add(\"3\")\n",
    "B={1}\n",
    "set(A).issuperset(B) "
   ]
  },
  {
   "cell_type": "code",
   "execution_count": 167,
   "id": "d1a935fb-f62b-4fd3-b2ff-5d3bc418abb5",
   "metadata": {},
   "outputs": [
    {
     "data": {
      "text/plain": [
       "dict_keys(['Thriller', 'Back in Black', 'The Dark Side of the Moon', 'The Bodyguard', 'Bat Out of Hell', 'Their Greatest Hits (1971-1975)', 'Saturday Night Fever', 'Rumours'])"
      ]
     },
     "execution_count": 167,
     "metadata": {},
     "output_type": "execute_result"
    }
   ],
   "source": [
    "A={'Thriller': '1982',\n",
    " 'Back in Black': '1980',\n",
    " 'The Dark Side of the Moon': '1973',\n",
    " 'The Bodyguard': '1992',\n",
    " 'Bat Out of Hell': '1977',\n",
    " 'Their Greatest Hits (1971-1975)': '1976',\n",
    " 'Saturday Night Fever': '1977',\n",
    " 'Rumours': '1977'}\n",
    "A.keys()"
   ]
  },
  {
   "cell_type": "code",
   "execution_count": 168,
   "id": "e803e63d-6656-4614-8f91-f0924cb5f603",
   "metadata": {},
   "outputs": [
    {
     "data": {
      "text/plain": [
       "range(0, 3)"
      ]
     },
     "execution_count": 168,
     "metadata": {},
     "output_type": "execute_result"
    }
   ],
   "source": [
    "range(3)"
   ]
  },
  {
   "cell_type": "code",
   "execution_count": 170,
   "id": "1a4c4e07-e3e6-445e-9758-ed4b516ba5d5",
   "metadata": {},
   "outputs": [
    {
     "data": {
      "text/plain": [
       "24"
      ]
     },
     "execution_count": 170,
     "metadata": {},
     "output_type": "execute_result"
    }
   ],
   "source": [
    "def Mult(a, b):\n",
    "    c = a * b\n",
    "    return(c)\n",
    "    print('This is not printed')\n",
    "    # the print('This is not printed') statment is after the return statement\n",
    "    \n",
    "    \n",
    "result = Mult(12,2)\n",
    "result"
   ]
  },
  {
   "cell_type": "code",
   "execution_count": 171,
   "id": "d76af1ce-5da2-4cc9-9943-b88c08ff8360",
   "metadata": {},
   "outputs": [],
   "source": [
    "def fun_1(inputPara):\n",
    "    # Local variable b\n",
    "    b = 2\n",
    "    Result = inputPara + b\n",
    "    print(inputPara, \"plus 2 is\", Result) \n",
    "    return(Result)"
   ]
  },
  {
   "cell_type": "code",
   "execution_count": 176,
   "id": "9e4d6cfa-f2a1-450e-8cf0-62bc59415605",
   "metadata": {},
   "outputs": [],
   "source": [
    "from typing import Dict, Union\n",
    "\n",
    "def get_employee_data(id: int) -> Dict[str, Union[str, int]]:\n",
    "  # code to fetch employee data from a database\n",
    "  return {'name': 'John Smith', 'age': 30}"
   ]
  },
  {
   "cell_type": "code",
   "execution_count": 178,
   "id": "60e60ade-c95f-4b78-bcc1-d67408bd2dd8",
   "metadata": {},
   "outputs": [
    {
     "name": "stdout",
     "output_type": "stream",
     "text": [
      "The Bodyguard\n",
      "Saturday Night Fever\n"
     ]
    }
   ],
   "source": [
    "soundtrack_dic = {\"The Bodyguard\": \"1992\", \"Saturday Night Fever\": \"1977\"}\n",
    "for key,value in soundtrack_dic.items():\n",
    "    print(key)"
   ]
  },
  {
   "cell_type": "code",
   "execution_count": 179,
   "id": "65c9cc09-5752-4e50-9206-f2015d1f11af",
   "metadata": {},
   "outputs": [
    {
     "name": "stdout",
     "output_type": "stream",
     "text": [
      "['1992', '1977']\n"
     ]
    }
   ],
   "source": [
    "def print_the_year(soundtrack_dic):\n",
    "    return list(soundtrack_dic.values())\n",
    "print(print_the_year(soundtrack_dic))"
   ]
  },
  {
   "cell_type": "code",
   "execution_count": 180,
   "id": "35f591a5-8cca-44a2-b4f6-150e64f35857",
   "metadata": {},
   "outputs": [
    {
     "data": {
      "text/plain": [
       "False"
      ]
     },
     "execution_count": 180,
     "metadata": {},
     "output_type": "execute_result"
    }
   ],
   "source": [
    "bool(1>2)"
   ]
  },
  {
   "cell_type": "code",
   "execution_count": 181,
   "id": "394d78cf-83de-40b2-9464-de32f62c6a8f",
   "metadata": {},
   "outputs": [
    {
     "data": {
      "text/plain": [
       "0"
      ]
     },
     "execution_count": 181,
     "metadata": {},
     "output_type": "execute_result"
    }
   ],
   "source": [
    "3//4"
   ]
  },
  {
   "cell_type": "code",
   "execution_count": 185,
   "id": "e31f6c5a-8e28-4c2b-9eb1-cf9afca8702b",
   "metadata": {},
   "outputs": [
    {
     "data": {
      "text/plain": [
       "True"
      ]
     },
     "execution_count": 185,
     "metadata": {},
     "output_type": "execute_result"
    }
   ],
   "source": [
    "2==2.0"
   ]
  },
  {
   "cell_type": "code",
   "execution_count": null,
   "id": "42b343e1-2fbc-44da-80a9-4abd02f3b6fc",
   "metadata": {},
   "outputs": [],
   "source": []
  }
 ],
 "metadata": {
  "kernelspec": {
   "display_name": "Python 3 (ipykernel)",
   "language": "python",
   "name": "python3"
  },
  "language_info": {
   "codemirror_mode": {
    "name": "ipython",
    "version": 3
   },
   "file_extension": ".py",
   "mimetype": "text/x-python",
   "name": "python",
   "nbconvert_exporter": "python",
   "pygments_lexer": "ipython3",
   "version": "3.11.7"
  }
 },
 "nbformat": 4,
 "nbformat_minor": 5
}
